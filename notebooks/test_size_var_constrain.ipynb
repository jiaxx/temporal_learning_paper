{
 "cells": [
  {
   "cell_type": "code",
   "execution_count": 1,
   "metadata": {},
   "outputs": [],
   "source": [
    "import numpy as np\n",
    "import scipy as sp\n",
    "import os, sys,glob, copy\n",
    "import pandas as pd\n",
    "\n",
    "import matplotlib.pyplot as plt\n",
    "plt.style.use('default')\n",
    "%matplotlib inline\n",
    "import seaborn as sns"
   ]
  },
  {
   "cell_type": "code",
   "execution_count": null,
   "metadata": {},
   "outputs": [],
   "source": [
    "## check email from Jonathan in Jim's lab\n",
    "## activate newbase\n",
    "#from brainio_collection import get_assembly, get_stimulus_set, list_assemblies, list_stimulus_sets\n",
    "#list_assemblies()"
   ]
  },
  {
   "cell_type": "code",
   "execution_count": 10,
   "metadata": {},
   "outputs": [
    {
     "name": "stderr",
     "output_type": "stream",
     "text": [
      "/Users/xiaoxuanj/anaconda/envs/newbase/lib/python3.6/site-packages/brainio_base-0.1.0-py3.6.egg/brainio_base/assemblies.py:218: FutureWarning: The inplace argument has been deprecated and will be removed in a future version of xarray.\n",
      "  xr_data.set_index(append=True, inplace=True, **coords_d)\n"
     ]
    }
   ],
   "source": [
    "#hvm = get_assembly(\"dicarlo.MajajHong2015\")"
   ]
  },
  {
   "cell_type": "code",
   "execution_count": null,
   "metadata": {},
   "outputs": [],
   "source": []
  },
  {
   "cell_type": "code",
   "execution_count": 2,
   "metadata": {},
   "outputs": [],
   "source": [
    "# load IT neural data\n",
    "IT = np.load('/Users/xiaoxuanj/Dropbox/jim_unsupervised_learning_paper/save_HvM/IT.npy')\n",
    "V0_rep = np.load('/Users/xiaoxuanj/Dropbox/jim_unsupervised_learning_paper/save_HvM/IT_v0_rep.npy')\n",
    "#V3_rep = np.load('/Users/xiaoxuanj/Dropbox/jim_unsupervised_learning_paper/save_HvM/IT_v3_rep.npy')\n",
    "#V6_rep = np.load('/Users/xiaoxuanj/Dropbox/jim_unsupervised_learning_paper/save_HvM/IT_v6_rep.npy')\n",
    "\n",
    "meta = pd.read_csv('/Users/xiaoxuanj/Dropbox/jim_unsupervised_learning_paper/save_HvM/meta_hvm.csv', index_col=0)"
   ]
  },
  {
   "cell_type": "code",
   "execution_count": 3,
   "metadata": {},
   "outputs": [
    {
     "data": {
      "text/plain": [
       "(5760, 168)"
      ]
     },
     "execution_count": 3,
     "metadata": {},
     "output_type": "execute_result"
    }
   ],
   "source": [
    "IT.shape"
   ]
  },
  {
   "cell_type": "code",
   "execution_count": 5,
   "metadata": {},
   "outputs": [
    {
     "data": {
      "text/plain": [
       "(array([2.54000e+02, 1.84020e+04, 4.51984e+05, 4.41774e+05, 4.76370e+04,\n",
       "        6.28900e+03, 1.10200e+03, 1.99000e+02, 3.30000e+01, 6.00000e+00]),\n",
       " array([-1.9345212 , -1.3019805 , -0.6694397 , -0.03689895,  0.5956418 ,\n",
       "         1.2281826 ,  1.8607233 ,  2.493264  ,  3.125805  ,  3.7583456 ,\n",
       "         4.3908863 ], dtype=float32),\n",
       " <a list of 10 Patch objects>)"
      ]
     },
     "execution_count": 5,
     "metadata": {},
     "output_type": "execute_result"
    },
    {
     "data": {
      "image/png": "[encoded data removed]",
      "text/plain": [
       "<Figure size 432x288 with 1 Axes>"
      ]
     },
     "metadata": {
      "needs_background": "light"
     },
     "output_type": "display_data"
    }
   ],
   "source": [
    "plt.hist(IT.flatten())"
   ]
  },
  {
   "cell_type": "code",
   "execution_count": 4,
   "metadata": {},
   "outputs": [],
   "source": [
    "# distribution of variance\n",
    "obj = np.unique(meta['obj'])\n",
    "var = []\n",
    "for o in obj:\n",
    "    var.append(np.std(IT[(meta['obj']==o) & (meta['var']=='V0')],axis=0))\n",
    "var = np.array(var)"
   ]
  },
  {
   "cell_type": "code",
   "execution_count": 5,
   "metadata": {},
   "outputs": [
    {
     "data": {
      "text/plain": [
       "[<matplotlib.axis.YTick at 0x7fc12a223588>,\n",
       " <matplotlib.axis.YTick at 0x7fc12a212f28>,\n",
       " <matplotlib.axis.YTick at 0x7fc12a208710>,\n",
       " <matplotlib.axis.YTick at 0x7fc123f39630>]"
      ]
     },
     "execution_count": 5,
     "metadata": {},
     "output_type": "execute_result"
    },
    {
     "data": {
      "image/png": "[encoded data removed]",
      "text/plain": [
       "<Figure size 432x302.4 with 1 Axes>"
      ]
     },
     "metadata": {
      "needs_background": "light"
     },
     "output_type": "display_data"
    }
   ],
   "source": [
    "# variance across background/examplars\n",
    "fig = plt.figure(figsize = (6,4.2))\n",
    "ax = fig.add_subplot(111)\n",
    "\n",
    "plt.hist(var.flatten(),np.linspace(0,1,20),color='gray')\n",
    "plt.xlabel('Variance caused by background',fontsize=16)\n",
    "plt.ylabel('Number of sites',fontsize=16)\n",
    "plt.title('All neurons, all objects',fontsize=16)\n",
    "\n",
    "plt.plot([np.median(var.flatten()),np.median(var.flatten())], [0,3000],'k', linestyle='dashed',label='Mean')\n",
    "plt.xlim(0,1)\n",
    "plt.ylim(0,3000)\n",
    "ax.tick_params(axis='y', direction='out')\n",
    "ax.tick_params(axis='x', direction='out')\n",
    "ax.set_xticks([0,0.5,1])\n",
    "ax.set_yticks([0,1000,2000,3000])"
   ]
  },
  {
   "cell_type": "code",
   "execution_count": 6,
   "metadata": {},
   "outputs": [
    {
     "data": {
      "text/plain": [
       "10752"
      ]
     },
     "execution_count": 6,
     "metadata": {},
     "output_type": "execute_result"
    }
   ],
   "source": [
    "len(var.flatten())"
   ]
  },
  {
   "cell_type": "code",
   "execution_count": 7,
   "metadata": {},
   "outputs": [
    {
     "data": {
      "text/plain": [
       "10752"
      ]
     },
     "execution_count": 7,
     "metadata": {},
     "output_type": "execute_result"
    }
   ],
   "source": [
    "168*64"
   ]
  },
  {
   "cell_type": "code",
   "execution_count": 6,
   "metadata": {},
   "outputs": [
    {
     "data": {
      "text/plain": [
       "0.27901785714285715"
      ]
     },
     "execution_count": 6,
     "metadata": {},
     "output_type": "execute_result"
    }
   ],
   "source": [
    "3000/(168*64)"
   ]
  },
  {
   "cell_type": "code",
   "execution_count": 8,
   "metadata": {},
   "outputs": [
    {
     "name": "stdout",
     "output_type": "stream",
     "text": [
      "0.90405893\n"
     ]
    },
    {
     "data": {
      "text/plain": [
       "(0.0, 0.3)"
      ]
     },
     "execution_count": 8,
     "metadata": {},
     "output_type": "execute_result"
    },
    {
     "data": {
      "image/png": "[encoded data removed]",
      "text/plain": [
       "<Figure size 432x302.4 with 1 Axes>"
      ]
     },
     "metadata": {
      "needs_background": "light"
     },
     "output_type": "display_data"
    }
   ],
   "source": [
    "# variance across repeats\n",
    "# Variance across reps for V0, V3 and V6\n",
    "fig = plt.figure(figsize = (6,4.2))\n",
    "ax = fig.add_subplot(111)\n",
    "myarray = V0_rep.std(0).flatten()\n",
    "weights = np.ones_like(myarray)/len(myarray)\n",
    "plt.hist(myarray, weights=weights, bins=np.linspace(0,2,20),color='gray', alpha=0.5,label='V0')\n",
    "print(V0_rep.std(0).flatten().mean(0))\n",
    "plt.plot([np.median(V0_rep.std(0).flatten()),np.median(V0_rep.std(0).flatten())], [0,0.3],'k', linestyle='dashed',label='Mean')\n",
    "\n",
    "plt.ylabel('Proportion of images for all neurons',fontsize=16)\n",
    "plt.xlabel('Variance across repeats',fontsize=16)\n",
    "plt.legend(bbox_to_anchor=(1.05, 1), loc=2, borderaxespad=0.)\n",
    "plt.ylim([0,0.3])\n",
    "#plt.savefig('/Users/xiaoxuanj/Dropbox/2015.paper.Jia.UnsupervisedLearning/supplemental/variance_repeats.pdf')"
   ]
  },
  {
   "cell_type": "code",
   "execution_count": 11,
   "metadata": {},
   "outputs": [
    {
     "data": {
      "text/plain": [
       "107520"
      ]
     },
     "execution_count": 11,
     "metadata": {},
     "output_type": "execute_result"
    }
   ],
   "source": [
    "len(V0_rep.std(0).flatten())"
   ]
  },
  {
   "cell_type": "code",
   "execution_count": 27,
   "metadata": {},
   "outputs": [
    {
     "name": "stderr",
     "output_type": "stream",
     "text": [
      "/Users/xiaoxuanj/anaconda/envs/newbase/lib/python3.6/site-packages/ipykernel_launcher.py:43: RuntimeWarning: Mean of empty slice.\n",
      "/Users/xiaoxuanj/anaconda/envs/newbase/lib/python3.6/site-packages/numpy/core/_methods.py:161: RuntimeWarning: invalid value encountered in true_divide\n",
      "  ret = ret.dtype.type(ret / rcount)\n"
     ]
    },
    {
     "name": "stdout",
     "output_type": "stream",
     "text": [
      "0.11959227506449278\n",
      "0.11007210186549596\n"
     ]
    }
   ],
   "source": [
    "#distribution of varaince across sizes for all neurons and all objects\n",
    "# marginal tuning\n",
    "size = meta['s']\n",
    "bins=10\n",
    "space = np.linspace(min(size),max(size),bins)\n",
    "OBJ = np.unique(meta['obj'])\n",
    "\n",
    "obj = np.unique(meta['obj'])\n",
    "objsize = []\n",
    "objall = []\n",
    "for o in obj:\n",
    "    tempmeta = meta[meta['obj']==o]\n",
    "    a = np.array([(e,i) for i,e in enumerate(tempmeta['s'])]) # the meta needs to correspond to neural data, or causing bug\n",
    "    objsize.append([a_[0] for a_ in a])\n",
    "    tempIT = IT[meta['obj']==o]\n",
    "    objall.append(tempIT)\n",
    "objall = np.array(objall)\n",
    "objsize = np.array(objsize)\n",
    "\n",
    "# var across all bins\n",
    "VAR_size = []\n",
    "for n in range(168):\n",
    "    bins_obj = []\n",
    "    for o in OBJ:\n",
    "        neuron = IT[(meta['obj']==o),n]\n",
    "        size = meta[meta['obj']==o]['s']\n",
    "        bins = []\n",
    "        for i in range(len(space)-1):\n",
    "            bins.append(np.mean([neuron[idx] for idx,s in enumerate(size) if s>=space[i] and s<=space[i+1]]))\n",
    "        bins_obj.append(bins)\n",
    "    #plot(space[1:],bins)\n",
    "    VAR_size.append(bins_obj)\n",
    "\n",
    "# only three bins\n",
    "bins = 10\n",
    "size = meta['s']\n",
    "fixbins = np.linspace(min(size),max(size),bins)\n",
    "neuron_var=[]\n",
    "for o in range(64):\n",
    "    temp=[]\n",
    "    for n in range(168):\n",
    "        digitized = np.digitize(objsize[o,:], fixbins)\n",
    "        bin_means=np.array([objall[o,:,n][digitized == i].mean() for i in range(1, len(fixbins))])\n",
    "        temp.append(np.nanstd(bin_means[[0,5,8]]))\n",
    "    neuron_var.append(temp)\n",
    "print(np.mean(np.ma.masked_invalid(np.std(VAR_size,axis=2).flatten())))\n",
    "print(np.mean(np.ma.masked_invalid(np.array(neuron_var).flatten())))"
   ]
  },
  {
   "cell_type": "code",
   "execution_count": 28,
   "metadata": {},
   "outputs": [
    {
     "data": {
      "text/plain": [
       "(64, 168)"
      ]
     },
     "execution_count": 28,
     "metadata": {},
     "output_type": "execute_result"
    }
   ],
   "source": [
    "np.ma.masked_invalid(np.array(neuron_var)).shape"
   ]
  },
  {
   "cell_type": "code",
   "execution_count": 29,
   "metadata": {},
   "outputs": [
    {
     "name": "stderr",
     "output_type": "stream",
     "text": [
      "/Users/xiaoxuanj/anaconda/envs/newbase/lib/python3.6/site-packages/numpy/core/fromnumeric.py:746: UserWarning: Warning: 'partition' will ignore the 'mask' of the MaskedArray.\n",
      "  a.partition(kth, axis=axis, kind=kind, order=order)\n"
     ]
    }
   ],
   "source": [
    "size_var_mean = np.mean(np.ma.masked_invalid(np.array(neuron_var).flatten()))\n",
    "size_var_median = np.median(np.ma.masked_invalid(np.array(neuron_var).flatten()))"
   ]
  },
  {
   "cell_type": "code",
   "execution_count": 46,
   "metadata": {},
   "outputs": [
    {
     "data": {
      "image/png": "[encoded data removed]",
      "text/plain": [
       "<Figure size 432x288 with 1 Axes>"
      ]
     },
     "metadata": {
      "needs_background": "light"
     },
     "output_type": "display_data"
    }
   ],
   "source": [
    "#plt.hist(np.ma.masked_invalid(np.array(neuron_var)).flatten(),color='gray', alpha=0.5,bins = np.arange(0, 0.8,0.01))\n",
    "\n",
    "myarray = np.ma.masked_invalid(np.array(neuron_var)).flatten()\n",
    "weights = np.ones_like(myarray)/len(myarray)\n",
    "plt.hist(myarray, weights=weights, bins=np.arange(0, 0.6,0.04),color='gray', alpha=0.5,label='V0')\n",
    "plt.plot([size_var_median, size_var_median], [0,0.28], 'r:')\n",
    "plt.ylim([0,0.3])\n",
    "plt.xlim([0,0.6])\n",
    "plt.xlabel('Variance across size')\n",
    "plt.ylabel('Proportion')\n",
    "plt.title('Variance across size for each neuron (n=168) for each object (n=64)')\n",
    "plt.savefig('/Users/xiaoxuanj/Dropbox/2015.paper.Jia.UnsupervisedLearning/supplemental/variance_size.pdf')"
   ]
  },
  {
   "cell_type": "code",
   "execution_count": null,
   "metadata": {},
   "outputs": [],
   "source": []
  },
  {
   "cell_type": "code",
   "execution_count": 47,
   "metadata": {},
   "outputs": [
    {
     "name": "stdout",
     "output_type": "stream",
     "text": [
      "-1\n"
     ]
    },
    {
     "name": "stderr",
     "output_type": "stream",
     "text": [
      "/Users/xiaoxuanj/anaconda/envs/newbase/lib/python3.6/site-packages/ipykernel_launcher.py:31: RuntimeWarning: Mean of empty slice.\n"
     ]
    },
    {
     "name": "stdout",
     "output_type": "stream",
     "text": [
      "-2\n",
      "-3\n",
      "-4\n",
      "-5\n",
      "-6\n",
      "-7\n",
      "-8\n",
      "-9\n",
      "-10\n",
      "-11\n",
      "-12\n",
      "-13\n",
      "-14\n",
      "-15\n",
      "-16\n",
      "-17\n",
      "-18\n",
      "-19\n",
      "-20\n",
      "-21\n",
      "-22\n",
      "-23\n",
      "-24\n",
      "-25\n",
      "-26\n",
      "-27\n",
      "-28\n",
      "-29\n",
      "-30\n",
      "-31\n",
      "-32\n",
      "-33\n",
      "-34\n",
      "-35\n",
      "-36\n",
      "-37\n",
      "-38\n",
      "-39\n",
      "-40\n",
      "-41\n",
      "-42\n",
      "-43\n",
      "-44\n",
      "-45\n",
      "-46\n",
      "-47\n",
      "-48\n",
      "-49\n",
      "-50\n",
      "-51\n",
      "-52\n",
      "-53\n",
      "-54\n",
      "-55\n",
      "-56\n",
      "-57\n",
      "-58\n",
      "-59\n",
      "-60\n",
      "-61\n",
      "-62\n",
      "-63\n",
      "-64\n"
     ]
    }
   ],
   "source": [
    "# same 3 size bins and range for data and model prediction\n",
    "\n",
    "cov = np.cov(np.mean(objall,axis=1)) #64 dimensional covariance matrix\n",
    "m = objall.mean(1).mean(1)\n",
    "rseed = 1\n",
    "points = 168 # mimic real data\n",
    "rng = np.random.RandomState(rseed)\n",
    "X_test = rng.multivariate_normal(m, cov, size=points)\n",
    "\n",
    "size = meta['s']\n",
    "xp = np.linspace(min(size),max(size),10)\n",
    "xp = xp[[0,4,9]]\n",
    "units = -np.array(range(1,65))\n",
    "size_std_mean=[]\n",
    "size_std_median=[]\n",
    "size_std_std=[]\n",
    "NUM=[]\n",
    "for u in units:\n",
    "    print(u)\n",
    "    pfit = []\n",
    "    Vfit = []\n",
    "    for n in range(168):\n",
    "        resp = np.mean(objall[:,:,n],axis=1)\n",
    "        sort_index = np.argsort(resp)\n",
    "        rank = sort_index[u:]\n",
    "        bins = 10\n",
    "        fixbins = np.linspace(min(size),max(size),bins)\n",
    "        BIN_means = []\n",
    "        for o in rank:\n",
    "            digitized = np.digitize(objsize[o,:], fixbins)\n",
    "            BIN_means.append(np.array([objall[o,:,n][digitized == i].mean() for i in range(1, len(fixbins))]))\n",
    "        bin_means = np.ma.masked_invalid(BIN_means).mean(0)\n",
    "        temp = fixbins[:(bins-1)]     \n",
    "        x = temp\n",
    "        y = bin_means    \n",
    "        z = np.polyfit(x, y, 5) # 5 free parameters, same as DOG\n",
    "        p = np.poly1d(z) \n",
    "        yy=p(x)\n",
    "        V = np.round(sum([(y[i]-yy[i])**2 for i in range(len(y))])/len(y),5)\n",
    "        \n",
    "        pfit.append(z)\n",
    "        Vfit.append(V)\n",
    "    \n",
    "    size_kernal = np.array(pfit)[[idx for idx, d in enumerate(Vfit) if d<=0.1]]   \n",
    "    NUM.append(len(size_kernal))\n",
    "    \n",
    "    # 3 size points\n",
    "    xp = np.linspace(min(size),max(size),10)\n",
    "    xp = xp[[0,4,9]]\n",
    "    \n",
    "    sigma_size=0\n",
    "    size_tuning_test = []\n",
    "    for n in range(points):\n",
    "        if n<len(size_kernal):\n",
    "            p = np.poly1d(size_kernal[n]) \n",
    "        else:\n",
    "            r = np.random.choice(range(np.shape(size_kernal)[0])) # randomly choose kernal for each neuron, size tuning parallel for all objects\n",
    "            p = np.poly1d(size_kernal[r]) \n",
    "        \n",
    "        temp = []\n",
    "        for o in range(len(obj)):\n",
    "            # 9 points in xp, different from modeled population\n",
    "            base = np.mean(p(xp))-X_test[n,o]\n",
    "            ttemp = p(xp)-base\n",
    "\n",
    "            if sigma_size!=0:\n",
    "                temp_size1 = rng.normal(ttemp[0], sigma_size, 1) # jitter for each object\n",
    "                temp_size2 = rng.normal(ttemp[1], sigma_size, 1)\n",
    "                temp_size3 = rng.normal(ttemp[2], sigma_size, 1)\n",
    "                temp.append([temp_size1[0],ttemp[1],temp_size3[0]])\n",
    "            else:\n",
    "                temp.append(ttemp)\n",
    "                \n",
    "                                \n",
    "        size_tuning_test.append(temp)\n",
    "    size_var = np.array(size_tuning_test).std(2).flatten()\n",
    "    size_std_mean.append(np.mean(size_var))\n",
    "    size_std_median.append(np.median(size_var))\n",
    "    size_std_std.append(np.std(size_var)/np.sqrt(len(size_var)))"
   ]
  },
  {
   "cell_type": "code",
   "execution_count": 64,
   "metadata": {},
   "outputs": [
    {
     "data": {
      "text/plain": [
       "<matplotlib.legend.Legend at 0x7fd70f9d42b0>"
      ]
     },
     "execution_count": 64,
     "metadata": {},
     "output_type": "execute_result"
    },
    {
     "data": {
      "image/png": "[encoded data removed]",
      "text/plain": [
       "<Figure size 432x302.4 with 1 Axes>"
      ]
     },
     "metadata": {
      "needs_background": "light"
     },
     "output_type": "display_data"
    }
   ],
   "source": [
    "fig = plt.figure(figsize = (6,4.2))\n",
    "ax = fig.add_subplot(111)\n",
    "plt.errorbar(np.array(range(1,65)),np.array(size_std_mean),np.array(size_std_std)*np.sqrt(len(size_var))/np.sqrt(168),linewidth=2,color = 'k', ecolor = 'k',label='Model')\n",
    "myarray = np.array(neuron_var).flatten()\n",
    "plt.plot([1,64],[np.median(myarray),np.median(myarray)],linewidth=1,color = 'r',linestyle='dashed',label='data')\n",
    "plt.xlim(0,65)\n",
    "plt.ylim(0,0.5)\n",
    "ax.tick_params(axis='y', direction='out')\n",
    "ax.tick_params(axis='x', direction='out')\n",
    "ax.set_xticks([0,2,4,8,16,32,48,64])\n",
    "ax.set_yticks([0,0.25,0.5])\n",
    "plt.xlabel('Number of top units used to generate size tuning')\n",
    "plt.ylabel('Mean of variation in size for all neurons')\n",
    "plt.title('Variance of size tuning kernal for simulated IT as a function of number of objects used to average across ')\n",
    "plt.legend(bbox_to_anchor=(1.05, 1), loc=2, borderaxespad=0.)"
   ]
  },
  {
   "cell_type": "code",
   "execution_count": 60,
   "metadata": {},
   "outputs": [
    {
     "data": {
      "text/plain": [
       "(array([41]),)"
      ]
     },
     "execution_count": 60,
     "metadata": {},
     "output_type": "execute_result"
    }
   ],
   "source": [
    "tmp = abs(np.array(size_std_mean)-np.median(myarray))\n",
    "np.where(tmp==min(tmp))"
   ]
  },
  {
   "cell_type": "code",
   "execution_count": 65,
   "metadata": {},
   "outputs": [
    {
     "data": {
      "text/plain": [
       "(168, 64, 3)"
      ]
     },
     "execution_count": 65,
     "metadata": {},
     "output_type": "execute_result"
    }
   ],
   "source": [
    "np.array(size_tuning_test).shape"
   ]
  },
  {
   "cell_type": "code",
   "execution_count": 74,
   "metadata": {},
   "outputs": [
    {
     "data": {
      "text/plain": [
       "(array([55., 54., 28., 19.,  7.,  3.,  1.,  0.,  0.,  1.]),\n",
       " array([0.00272881, 0.03325342, 0.06377803, 0.09430264, 0.12482724,\n",
       "        0.15535185, 0.18587646, 0.21640106, 0.24692567, 0.27745028,\n",
       "        0.30797489]),\n",
       " <a list of 10 Patch objects>)"
      ]
     },
     "execution_count": 74,
     "metadata": {},
     "output_type": "execute_result"
    },
    {
     "data": {
      "image/png": "[encoded data removed]",
      "text/plain": [
       "<Figure size 432x288 with 1 Axes>"
      ]
     },
     "metadata": {
      "needs_background": "light"
     },
     "output_type": "display_data"
    }
   ],
   "source": [
    "plt.hist(np.ma.masked_invalid(np.array(neuron_var)).flatten(),color='gray', alpha=0.5,bins = np.arange(0, 0.8,0.01))\n",
    "plt.plot([size_var_median, size_var_median], [0,750], 'r:')\n",
    "plt.hist(np.array(size_tuning_test).std(-1)[:,41])"
   ]
  },
  {
   "cell_type": "code",
   "execution_count": null,
   "metadata": {},
   "outputs": [],
   "source": [
    "# load model IT data"
   ]
  },
  {
   "cell_type": "code",
   "execution_count": null,
   "metadata": {},
   "outputs": [],
   "source": []
  }
 ],
 "metadata": {
  "kernelspec": {
   "display_name": "Python 3",
   "language": "python",
   "name": "python3"
  },
  "language_info": {
   "codemirror_mode": {
    "name": "ipython",
    "version": 3
   },
   "file_extension": ".py",
   "mimetype": "text/x-python",
   "name": "python",
   "nbconvert_exporter": "python",
   "pygments_lexer": "ipython3",
   "version": "3.6.10"
  }
 },
 "nbformat": 4,
 "nbformat_minor": 4
}
